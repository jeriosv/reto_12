{
 "cells": [
  {
   "attachments": {},
   "cell_type": "markdown",
   "metadata": {},
   "source": [
    "Cantidad de vocales en el archivo:"
   ]
  },
  {
   "cell_type": "code",
   "execution_count": 1,
   "metadata": {},
   "outputs": [
    {
     "name": "stdout",
     "output_type": "stream",
     "text": [
      "La cantidad de vocales en el texto es: 22450\n"
     ]
    }
   ],
   "source": [
    "def contar_vocales(texto: str):   # Función que cuenta las vocales\n",
    "    vocales = 0                   # Inicializar el contador de vocales en 0\n",
    "    for letra in texto:           # Iterar sobre cada letra en el texto\n",
    "        if letra in \"aeiouAEIOU\": # Verificar si la letra está en el conjunto de vocales\n",
    "            vocales += 1          # Incrementar el contador de vocales\n",
    "    return vocales                # Retornar el total de vocales\n",
    "\n",
    "with open(\"mbox-short.txt\", 'r') as file:  # Abrir el archivo \"mbox-short.txt\" en modo lectura\n",
    "    texto = file.read()   # Lee todo el contenido del archivo y lo guarda en la variable \"texto\"\n",
    "\n",
    "# Llama a la función contar_vocales con el contenido del archivo como argumento\n",
    "cantidad_vocales = contar_vocales(texto)\n",
    "\n",
    "# Imprimir la cantidad de vocales en el texto\n",
    "print(\"La cantidad de vocales en el texto es: \" + str(cantidad_vocales))"
   ]
  },
  {
   "attachments": {},
   "cell_type": "markdown",
   "metadata": {},
   "source": [
    "Cantidad de consonantes en el archivo:"
   ]
  },
  {
   "cell_type": "code",
   "execution_count": 2,
   "metadata": {},
   "outputs": [
    {
     "name": "stdout",
     "output_type": "stream",
     "text": [
      "La cantidad de consonantes en el texto es: 36063\n"
     ]
    }
   ],
   "source": [
    "def contar_consonantes(texto: str):  # Función que cuenta las consonantes\n",
    "    consonantes = 0                  # Inicializamos el contador de consonantes en 0\n",
    "    for letra in texto:              # Iterar sobre cada letra en el texto\n",
    "        if letra.isalpha() and letra not in \"aeiouAEIOU\": # Verificar si la letra es un carácter alfabético y no es una vocal\n",
    "            consonantes += 1         # Incrementar el contador de consonantes\n",
    "    return consonantes               # Retornar el total de consonantes\n",
    "\n",
    "with open(\"mbox-short.txt\", 'r') as file:  # Abre el archivo \"mbox-short.txt\" en modo lectura\n",
    "    texto = file.read()   # Lee todo el contenido del archivo y lo guarda en la variable \"texto\"\n",
    "\n",
    "# Llama a la función contar_consonantes con el contenido del archivo como argumento\n",
    "cantidad_consonantes = contar_consonantes(texto)\n",
    "\n",
    "# Imprime la cantidad de consonantes en el texto\n",
    "print(\"La cantidad de consonantes en el texto es: \" + str(cantidad_consonantes))"
   ]
  },
  {
   "attachments": {},
   "cell_type": "markdown",
   "metadata": {},
   "source": [
    "Las 50 palabras más repetidas en el archivo:"
   ]
  },
  {
   "cell_type": "code",
   "execution_count": 4,
   "metadata": {},
   "outputs": [
    {
     "name": "stdout",
     "output_type": "stream",
     "text": [
      "La palabra: edu \tSe repite 461 \tveces en el archivo\n",
      "La palabra: jan \tSe repite 352 \tveces en el archivo\n",
      "La palabra: sakaiproject \tSe repite 340 \tveces en el archivo\n",
      "La palabra: org \tSe repite 340 \tveces en el archivo\n",
      "La palabra: from \tSe repite 326 \tveces en el archivo\n",
      "La palabra: by \tSe repite 272 \tveces en el archivo\n",
      "La palabra: collab \tSe repite 270 \tveces en el archivo\n",
      "La palabra: x \tSe repite 259 \tveces en el archivo\n",
      "La palabra: fri \tSe repite 245 \tveces en el archivo\n",
      "La palabra: received \tSe repite 243 \tveces en el archivo\n",
      "La palabra: iupui \tSe repite 227 \tveces en el archivo\n",
      "La palabra: ac \tSe repite 220 \tveces en el archivo\n",
      "La palabra: umich \tSe repite 218 \tveces en el archivo\n",
      "La palabra: id \tSe repite 217 \tveces en el archivo\n",
      "La palabra: source \tSe repite 203 \tveces en el archivo\n",
      "La palabra: with \tSe repite 194 \tveces en el archivo\n",
      "La palabra: uk \tSe repite 193 \tveces en el archivo\n",
      "La palabra: uhi \tSe repite 189 \tveces en el archivo\n",
      "La palabra: nakamura \tSe repite 189 \tveces en el archivo\n",
      "La palabra: uits \tSe repite 189 \tveces en el archivo\n",
      "La palabra: java \tSe repite 160 \tveces en el archivo\n",
      "La palabra: src \tSe repite 157 \tveces en el archivo\n",
      "La palabra: tool \tSe repite 148 \tveces en el archivo\n",
      "La palabra: content \tSe repite 119 \tveces en el archivo\n",
      "La palabra: for \tSe repite 119 \tveces en el archivo\n",
      "La palabra: m \tSe repite 112 \tveces en el archivo\n",
      "La palabra: mail \tSe repite 108 \tveces en el archivo\n",
      "La palabra: esmtp \tSe repite 108 \tveces en el archivo\n",
      "La palabra: paploo \tSe repite 108 \tveces en el archivo\n",
      "La palabra: dspam \tSe repite 108 \tveces en el archivo\n",
      "La palabra: app \tSe repite 94 \tveces en el archivo\n",
      "La palabra: sakai \tSe repite 93 \tveces en el archivo\n",
      "La palabra: site \tSe repite 88 \tveces en el archivo\n",
      "La palabra: text \tSe repite 83 \tveces en el archivo\n",
      "La palabra: message \tSe repite 82 \tveces en el archivo\n",
      "La palabra: mr \tSe repite 81 \tveces en el archivo\n",
      "La palabra: itd \tSe repite 81 \tveces en el archivo\n",
      "La palabra: localhost \tSe repite 81 \tveces en el archivo\n",
      "La palabra: gmt \tSe repite 81 \tveces en el archivo\n",
      "La palabra: type \tSe repite 81 \tveces en el archivo\n",
      "La palabra: plain \tSe repite 81 \tveces en el archivo\n",
      "La palabra: charset \tSe repite 81 \tveces en el archivo\n",
      "La palabra: utf \tSe repite 81 \tveces en el archivo\n",
      "La palabra: to \tSe repite 71 \tveces en el archivo\n",
      "La palabra: thu \tSe repite 71 \tveces en el archivo\n",
      "La palabra: trunk \tSe repite 68 \tveces en el archivo\n",
      "La palabra: gradebook \tSe repite 67 \tveces en el archivo\n",
      "La palabra: ui \tSe repite 64 \tveces en el archivo\n",
      "La palabra: sak \tSe repite 62 \tveces en el archivo\n",
      "La palabra: branches \tSe repite 60 \tveces en el archivo\n",
      "La palabra: podcasts \tSe repite 60 \tveces en el archivo\n"
     ]
    }
   ],
   "source": [
    "def palabras_repetidas(texto: str):  # Función que busca las palabras más repetidas en un texto\n",
    "    texto = texto.lower()            # Convertir todo el texto a minúsculas\n",
    "\n",
    "    numero_de_palabras = {}          # Diccionario para almacenar el número de ocurrencias de cada palabra\n",
    "\n",
    "    for s in texto:                  # Reemplazar los caracteres que no son letras ni espacios por espacios en blanco\n",
    "        if not s.isalpha() and s != \" \":\n",
    "            texto = texto.replace(s, \" \")\n",
    "\n",
    "    archivo = texto.split()          # Dividir el texto en palabras individuales\n",
    "\n",
    "    for l in archivo:                # Contar el número de ocurrencias de cada palabra\n",
    "        if l not in numero_de_palabras:  # Si la palabra aún no está en el diccionario, la inicializamos en 0\n",
    "            numero_de_palabras[l] = 0\n",
    "        numero_de_palabras[l] += 1   # Incrementar el contador de ocurrencias de la palabra\n",
    "\n",
    "    # Imprimimos las palabras más repetidas (hasta las 50 más repetidas)\n",
    "    for s in sorted(numero_de_palabras, reverse=True, key=lambda s: numero_de_palabras[s])[:51]:\n",
    "        print(\"La palabra: {} \\tSe repite {} \\tveces en el archivo\".format(s, numero_de_palabras[s]))\n",
    "\n",
    "with open(\"mbox-short.txt\", 'r') as file:   # Leer el contenido del archivo y lo guardamos en la variable \"txt\"\n",
    "    txt = file.read()\n",
    "    palabras_repetidas(txt)       # Llamar a la función palabras_repetidas pasando el contenido del archivo como argumento\n",
    "    "
   ]
  }
 ],
 "metadata": {
  "kernelspec": {
   "display_name": "Python 3",
   "language": "python",
   "name": "python3"
  },
  "language_info": {
   "codemirror_mode": {
    "name": "ipython",
    "version": 3
   },
   "file_extension": ".py",
   "mimetype": "text/x-python",
   "name": "python",
   "nbconvert_exporter": "python",
   "pygments_lexer": "ipython3",
   "version": "3.11.5"
  },
  "orig_nbformat": 4
 },
 "nbformat": 4,
 "nbformat_minor": 2
}
